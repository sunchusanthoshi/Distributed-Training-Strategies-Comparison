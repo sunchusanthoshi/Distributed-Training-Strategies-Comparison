{
 "cells": [
  {
   "cell_type": "markdown",
   "id": "c5a97f6e-2f6e-4f59-9447-bfaaf994aa39",
   "metadata": {},
   "source": [
    "## 1. Without MPI"
   ]
  },
  {
   "cell_type": "markdown",
   "id": "931acfe9-0799-46a6-b7ca-7dfd004acb1a",
   "metadata": {},
   "source": [
    "#### Importing libraries"
   ]
  },
  {
   "cell_type": "code",
   "execution_count": 3,
   "id": "a3b9c3b7-7d41-4d2f-96fa-972eda4556b0",
   "metadata": {},
   "outputs": [],
   "source": [
    "import time\n",
    "import tensorflow as tf\n",
    "from tensorflow import keras\n",
    "import numpy as np\n",
    "import pandas as pd"
   ]
  },
  {
   "cell_type": "markdown",
   "id": "7e3211ac-7975-4963-9fe9-5696a09c1c97",
   "metadata": {},
   "source": [
    "#### Loading Dataset"
   ]
  },
  {
   "cell_type": "code",
   "execution_count": 6,
   "id": "a8f37a6a-eabe-46bc-a1cf-bb53d7c8e272",
   "metadata": {},
   "outputs": [],
   "source": [
    "fashion_mnist_dataset = keras.datasets.fashion_mnist\n",
    "(train_images, train_labels), (test_images, test_labels) = fashion_mnist_dataset.load_data()\n",
    "x_train, y_train = train_images, train_labels\n",
    "x_test, y_test = test_images, test_labels"
   ]
  },
  {
   "cell_type": "markdown",
   "id": "09b6594c-a481-4066-970c-1a46b3a79d61",
   "metadata": {},
   "source": [
    "#### Normalize Pixel Values"
   ]
  },
  {
   "cell_type": "code",
   "execution_count": 9,
   "id": "1e264a89-38d5-4a10-8bdb-78ced4eef850",
   "metadata": {},
   "outputs": [],
   "source": [
    "x_train = x_train.astype(\"float32\") / 255.0\n",
    "x_test = x_test.astype(\"float32\") / 255.0"
   ]
  },
  {
   "cell_type": "markdown",
   "id": "965cb7c1-d04a-472b-ba9a-96538c5fe1ec",
   "metadata": {},
   "source": [
    "#### Convert Labels to Categorical Format"
   ]
  },
  {
   "cell_type": "code",
   "execution_count": 12,
   "id": "1c9a6a58-d12d-43b6-9b90-f294805ed30b",
   "metadata": {},
   "outputs": [],
   "source": [
    "y_train = keras.utils.to_categorical(y_train, 10)\n",
    "y_test = keras.utils.to_categorical(y_test, 10)"
   ]
  },
  {
   "cell_type": "markdown",
   "id": "f220fe6f-dc6b-49fa-97e6-0906d0b18c44",
   "metadata": {},
   "source": [
    "#### Displaying the shape of Training and Testing dataset"
   ]
  },
  {
   "cell_type": "code",
   "execution_count": 15,
   "id": "d97ee6f4-9ff8-4fec-b348-4f069a6d8289",
   "metadata": {},
   "outputs": [
    {
     "name": "stdout",
     "output_type": "stream",
     "text": [
      "Training dataset(60000, 784)\n",
      "Testing dataset(10000, 784)\n"
     ]
    }
   ],
   "source": [
    "# Reshape the 3D arrays to 2D arrays for Pandas DataFrame\n",
    "x_train_2d = x_train.reshape(x_train.shape[0], -1)\n",
    "x_test_2d = x_test.reshape(x_test.shape[0], -1)\n",
    "\n",
    "# Convert NumPy arrays to Pandas DataFrames\n",
    "df_train = pd.DataFrame(x_train_2d)\n",
    "df_test = pd.DataFrame(x_test_2d)\n",
    "\n",
    "print(\"Training dataset{}\".format(df_train.shape))\n",
    "print(\"Testing dataset{}\".format(df_test.shape))"
   ]
  },
  {
   "cell_type": "markdown",
   "id": "f86328be-685c-48b6-83ba-c03b1892f33b",
   "metadata": {},
   "source": [
    "#### Define Model Architecture"
   ]
  },
  {
   "cell_type": "code",
   "execution_count": 18,
   "id": "1c95a986-1163-4fd1-9d7a-6e3f56c00ee4",
   "metadata": {},
   "outputs": [
    {
     "name": "stderr",
     "output_type": "stream",
     "text": [
      "/opt/anaconda3/lib/python3.12/site-packages/keras/src/layers/reshaping/flatten.py:37: UserWarning: Do not pass an `input_shape`/`input_dim` argument to a layer. When using Sequential models, prefer using an `Input(shape)` object as the first layer in the model instead.\n",
      "  super().__init__(**kwargs)\n"
     ]
    }
   ],
   "source": [
    "model = keras.Sequential([\n",
    "    keras.layers.Flatten(input_shape=(28, 28)),\n",
    "    keras.layers.Dense(128, activation='relu'),\n",
    "    keras.layers.Dropout(0.2),\n",
    "    keras.layers.Dense(10, activation='softmax')\n",
    "])"
   ]
  },
  {
   "cell_type": "markdown",
   "id": "ce8ff962-c17f-4198-acf8-478de241ba3d",
   "metadata": {},
   "source": [
    "#### Compile and Train the model"
   ]
  },
  {
   "cell_type": "code",
   "execution_count": 21,
   "id": "4df470aa-0264-46e3-8504-a1509fef5bf0",
   "metadata": {},
   "outputs": [
    {
     "name": "stdout",
     "output_type": "stream",
     "text": [
      "Epoch 1/10\n",
      "\u001b[1m1875/1875\u001b[0m \u001b[32m━━━━━━━━━━━━━━━━━━━━\u001b[0m\u001b[37m\u001b[0m \u001b[1m2s\u001b[0m 762us/step - accuracy: 0.7678 - loss: 0.6681 - val_accuracy: 0.8502 - val_loss: 0.4240\n",
      "Epoch 2/10\n",
      "\u001b[1m1875/1875\u001b[0m \u001b[32m━━━━━━━━━━━━━━━━━━━━\u001b[0m\u001b[37m\u001b[0m \u001b[1m1s\u001b[0m 741us/step - accuracy: 0.8508 - loss: 0.4092 - val_accuracy: 0.8534 - val_loss: 0.3970\n",
      "Epoch 3/10\n",
      "\u001b[1m1875/1875\u001b[0m \u001b[32m━━━━━━━━━━━━━━━━━━━━\u001b[0m\u001b[37m\u001b[0m \u001b[1m1s\u001b[0m 736us/step - accuracy: 0.8641 - loss: 0.3692 - val_accuracy: 0.8670 - val_loss: 0.3699\n",
      "Epoch 4/10\n",
      "\u001b[1m1875/1875\u001b[0m \u001b[32m━━━━━━━━━━━━━━━━━━━━\u001b[0m\u001b[37m\u001b[0m \u001b[1m1s\u001b[0m 713us/step - accuracy: 0.8704 - loss: 0.3556 - val_accuracy: 0.8731 - val_loss: 0.3561\n",
      "Epoch 5/10\n",
      "\u001b[1m1875/1875\u001b[0m \u001b[32m━━━━━━━━━━━━━━━━━━━━\u001b[0m\u001b[37m\u001b[0m \u001b[1m1s\u001b[0m 721us/step - accuracy: 0.8833 - loss: 0.3230 - val_accuracy: 0.8691 - val_loss: 0.3615\n",
      "Epoch 6/10\n",
      "\u001b[1m1875/1875\u001b[0m \u001b[32m━━━━━━━━━━━━━━━━━━━━\u001b[0m\u001b[37m\u001b[0m \u001b[1m1s\u001b[0m 721us/step - accuracy: 0.8824 - loss: 0.3198 - val_accuracy: 0.8691 - val_loss: 0.3565\n",
      "Epoch 7/10\n",
      "\u001b[1m1875/1875\u001b[0m \u001b[32m━━━━━━━━━━━━━━━━━━━━\u001b[0m\u001b[37m\u001b[0m \u001b[1m1s\u001b[0m 721us/step - accuracy: 0.8866 - loss: 0.3027 - val_accuracy: 0.8781 - val_loss: 0.3449\n",
      "Epoch 8/10\n",
      "\u001b[1m1875/1875\u001b[0m \u001b[32m━━━━━━━━━━━━━━━━━━━━\u001b[0m\u001b[37m\u001b[0m \u001b[1m1s\u001b[0m 738us/step - accuracy: 0.8917 - loss: 0.2925 - val_accuracy: 0.8686 - val_loss: 0.3575\n",
      "Epoch 9/10\n",
      "\u001b[1m1875/1875\u001b[0m \u001b[32m━━━━━━━━━━━━━━━━━━━━\u001b[0m\u001b[37m\u001b[0m \u001b[1m1s\u001b[0m 723us/step - accuracy: 0.8937 - loss: 0.2858 - val_accuracy: 0.8731 - val_loss: 0.3488\n",
      "Epoch 10/10\n",
      "\u001b[1m1875/1875\u001b[0m \u001b[32m━━━━━━━━━━━━━━━━━━━━\u001b[0m\u001b[37m\u001b[0m \u001b[1m1s\u001b[0m 714us/step - accuracy: 0.8949 - loss: 0.2786 - val_accuracy: 0.8821 - val_loss: 0.3238\n"
     ]
    }
   ],
   "source": [
    "model.compile(optimizer='adam',\n",
    "              loss='categorical_crossentropy',\n",
    "              metrics=['accuracy'])\n",
    "start_time = time.time()\n",
    "history = model.fit(x_train, y_train, epochs=10, validation_data=(x_test, y_test))\n",
    "end_time = time.time()"
   ]
  },
  {
   "cell_type": "code",
   "execution_count": 22,
   "id": "c42f2050-0a94-460b-bb5b-dfac2a15b26e",
   "metadata": {},
   "outputs": [
    {
     "name": "stdout",
     "output_type": "stream",
     "text": [
      "Time taken without MPI: 14.09 seconds\n"
     ]
    }
   ],
   "source": [
    "train_time = end_time - start_time\n",
    "print(\"Time taken without MPI: {:.2f} seconds\".format(train_time))\n"
   ]
  },
  {
   "cell_type": "markdown",
   "id": "c7f3f8d5-546d-4bdc-bc24-2c40addecb0d",
   "metadata": {},
   "source": [
    "## 2.With MPI"
   ]
  },
  {
   "cell_type": "code",
   "execution_count": 26,
   "id": "fc19988f-8734-44d4-8891-a73441dd6c3b",
   "metadata": {},
   "outputs": [
    {
     "name": "stderr",
     "output_type": "stream",
     "text": [
      "[Santhoshis-MacBook-Air.local:03433] shmem: mmap: an error occurred while determining whether or not /var/folders/5h/tk2b9hsd5y5fnsdh5fdqzfym0000gn/T//ompi.Santhoshis-MacBook-Air.501/jf.0/3840999424/sm_segment.Santhoshis-MacBook-Air.501.e4f10000.0 could be created.\n"
     ]
    }
   ],
   "source": [
    "from mpi4py import MPI\n",
    "from tensorflow.keras.models import Sequential "
   ]
  },
  {
   "cell_type": "code",
   "execution_count": 28,
   "id": "817e6c52-be8e-4ee4-9099-24a166b78e57",
   "metadata": {},
   "outputs": [
    {
     "name": "stdout",
     "output_type": "stream",
     "text": [
      "Epoch 1/10\n",
      "\u001b[1m1875/1875\u001b[0m \u001b[32m━━━━━━━━━━━━━━━━━━━━\u001b[0m\u001b[37m\u001b[0m \u001b[1m1s\u001b[0m 732us/step - accuracy: 0.8986 - loss: 0.2727 - val_accuracy: 0.8821 - val_loss: 0.3301\n",
      "Epoch 2/10\n",
      "\u001b[1m1875/1875\u001b[0m \u001b[32m━━━━━━━━━━━━━━━━━━━━\u001b[0m\u001b[37m\u001b[0m \u001b[1m1s\u001b[0m 710us/step - accuracy: 0.8989 - loss: 0.2673 - val_accuracy: 0.8877 - val_loss: 0.3268\n",
      "Epoch 3/10\n",
      "\u001b[1m1875/1875\u001b[0m \u001b[32m━━━━━━━━━━━━━━━━━━━━\u001b[0m\u001b[37m\u001b[0m \u001b[1m1s\u001b[0m 716us/step - accuracy: 0.9017 - loss: 0.2607 - val_accuracy: 0.8850 - val_loss: 0.3356\n",
      "Epoch 4/10\n",
      "\u001b[1m1875/1875\u001b[0m \u001b[32m━━━━━━━━━━━━━━━━━━━━\u001b[0m\u001b[37m\u001b[0m \u001b[1m1s\u001b[0m 703us/step - accuracy: 0.9016 - loss: 0.2603 - val_accuracy: 0.8798 - val_loss: 0.3389\n",
      "Epoch 5/10\n",
      "\u001b[1m1875/1875\u001b[0m \u001b[32m━━━━━━━━━━━━━━━━━━━━\u001b[0m\u001b[37m\u001b[0m \u001b[1m1s\u001b[0m 745us/step - accuracy: 0.9039 - loss: 0.2515 - val_accuracy: 0.8778 - val_loss: 0.3470\n",
      "Epoch 6/10\n",
      "\u001b[1m1875/1875\u001b[0m \u001b[32m━━━━━━━━━━━━━━━━━━━━\u001b[0m\u001b[37m\u001b[0m \u001b[1m1s\u001b[0m 742us/step - accuracy: 0.9062 - loss: 0.2468 - val_accuracy: 0.8871 - val_loss: 0.3345\n",
      "Epoch 7/10\n",
      "\u001b[1m1875/1875\u001b[0m \u001b[32m━━━━━━━━━━━━━━━━━━━━\u001b[0m\u001b[37m\u001b[0m \u001b[1m1s\u001b[0m 726us/step - accuracy: 0.9083 - loss: 0.2430 - val_accuracy: 0.8863 - val_loss: 0.3399\n",
      "Epoch 8/10\n",
      "\u001b[1m1875/1875\u001b[0m \u001b[32m━━━━━━━━━━━━━━━━━━━━\u001b[0m\u001b[37m\u001b[0m \u001b[1m1s\u001b[0m 751us/step - accuracy: 0.9073 - loss: 0.2428 - val_accuracy: 0.8904 - val_loss: 0.3292\n",
      "Epoch 9/10\n",
      "\u001b[1m1875/1875\u001b[0m \u001b[32m━━━━━━━━━━━━━━━━━━━━\u001b[0m\u001b[37m\u001b[0m \u001b[1m1s\u001b[0m 713us/step - accuracy: 0.9111 - loss: 0.2389 - val_accuracy: 0.8859 - val_loss: 0.3445\n",
      "Epoch 10/10\n",
      "\u001b[1m1875/1875\u001b[0m \u001b[32m━━━━━━━━━━━━━━━━━━━━\u001b[0m\u001b[37m\u001b[0m \u001b[1m1s\u001b[0m 713us/step - accuracy: 0.9102 - loss: 0.2369 - val_accuracy: 0.8865 - val_loss: 0.3392\n",
      "Time taken with MPI: 13.76 seconds\n"
     ]
    }
   ],
   "source": [
    "# Initialize MPI\n",
    "comm = MPI.COMM_WORLD\n",
    "rank = comm.Get_rank()\n",
    "size = comm.Get_size()\n",
    "\n",
    "# Split the data across the nodes\n",
    "x_rank = np.array_split(x_train, size)[rank]\n",
    "y_rank = np.array_split(y_train, size)[rank]\n",
    "\n",
    "# Train the model with MPI\n",
    "start_time = MPI.Wtime()\n",
    "history = model.fit(x_rank, y_rank, epochs=10, validation_data=(x_test, y_test))\n",
    "end_time = MPI.Wtime()\n",
    "\n",
    "# Compute the training time\n",
    "train_time = end_time - start_time\n",
    "\n",
    "# Compute the average training time across all nodes\n",
    "train_time_avg = comm.reduce(train_time, op=MPI.SUM) / size\n",
    "\n",
    "# Print the training time\n",
    "if rank == 0:\n",
    "    print(\"Time taken with MPI: {:.2f} seconds\".format(train_time_avg))"
   ]
  },
  {
   "cell_type": "markdown",
   "id": "441fc824-8f9d-4f4f-8afd-2f1e8e4bdd42",
   "metadata": {},
   "source": [
    "## 3.Mirrored Strategy"
   ]
  },
  {
   "cell_type": "code",
   "execution_count": 31,
   "id": "000d80da-07bf-4c04-8870-cf7bfd7ad057",
   "metadata": {},
   "outputs": [
    {
     "name": "stdout",
     "output_type": "stream",
     "text": [
      "INFO:tensorflow:Using MirroredStrategy with devices ('/job:localhost/replica:0/task:0/device:CPU:0',)\n",
      "Epoch 1/10\n"
     ]
    },
    {
     "name": "stderr",
     "output_type": "stream",
     "text": [
      "2025-07-19 13:00:35.433146: W tensorflow/core/framework/dataset.cc:993] Input of GeneratorDatasetOp::Dataset will not be optimized because the dataset does not implement the AsGraphDefInternal() method needed to apply optimizations.\n"
     ]
    },
    {
     "name": "stdout",
     "output_type": "stream",
     "text": [
      "\u001b[1m909/938\u001b[0m \u001b[32m━━━━━━━━━━━━━━━━━━━\u001b[0m\u001b[37m━\u001b[0m \u001b[1m0s\u001b[0m 889us/step - accuracy: 0.7483 - loss: 0.7150"
     ]
    },
    {
     "name": "stderr",
     "output_type": "stream",
     "text": [
      "2025-07-19 13:00:36.484523: I tensorflow/core/framework/local_rendezvous.cc:407] Local rendezvous is aborting with status: OUT_OF_RANGE: End of sequence\n",
      "\t [[{{node MultiDeviceIteratorGetNextFromShard}}]]\n"
     ]
    },
    {
     "name": "stdout",
     "output_type": "stream",
     "text": [
      "\u001b[1m938/938\u001b[0m \u001b[32m━━━━━━━━━━━━━━━━━━━━\u001b[0m\u001b[37m\u001b[0m \u001b[1m1s\u001b[0m 1ms/step - accuracy: 0.7502 - loss: 0.7097 - val_accuracy: 0.8422 - val_loss: 0.4371\n",
      "Epoch 2/10\n",
      "\u001b[1m111/938\u001b[0m \u001b[32m━━\u001b[0m\u001b[37m━━━━━━━━━━━━━━━━━━\u001b[0m \u001b[1m0s\u001b[0m 920us/step - accuracy: 0.8494 - loss: 0.4152"
     ]
    },
    {
     "name": "stderr",
     "output_type": "stream",
     "text": [
      "2025-07-19 13:00:36.725492: I tensorflow/core/framework/local_rendezvous.cc:407] Local rendezvous is aborting with status: OUT_OF_RANGE: End of sequence\n",
      "\t [[{{node MultiDeviceIteratorGetNextFromShard}}]]\n"
     ]
    },
    {
     "name": "stdout",
     "output_type": "stream",
     "text": [
      "\u001b[1m938/938\u001b[0m \u001b[32m━━━━━━━━━━━━━━━━━━━━\u001b[0m\u001b[37m\u001b[0m \u001b[1m1s\u001b[0m 1ms/step - accuracy: 0.8508 - loss: 0.4144 - val_accuracy: 0.8562 - val_loss: 0.3970\n",
      "Epoch 3/10\n",
      "\u001b[1m113/938\u001b[0m \u001b[32m━━\u001b[0m\u001b[37m━━━━━━━━━━━━━━━━━━\u001b[0m \u001b[1m0s\u001b[0m 903us/step - accuracy: 0.8665 - loss: 0.3843"
     ]
    },
    {
     "name": "stderr",
     "output_type": "stream",
     "text": [
      "2025-07-19 13:00:37.893218: I tensorflow/core/framework/local_rendezvous.cc:407] Local rendezvous is aborting with status: OUT_OF_RANGE: End of sequence\n",
      "\t [[{{node MultiDeviceIteratorGetNextFromShard}}]]\n"
     ]
    },
    {
     "name": "stdout",
     "output_type": "stream",
     "text": [
      "\u001b[1m938/938\u001b[0m \u001b[32m━━━━━━━━━━━━━━━━━━━━\u001b[0m\u001b[37m\u001b[0m \u001b[1m1s\u001b[0m 1ms/step - accuracy: 0.8650 - loss: 0.3745 - val_accuracy: 0.8642 - val_loss: 0.3794\n",
      "Epoch 4/10\n",
      "\u001b[1m938/938\u001b[0m \u001b[32m━━━━━━━━━━━━━━━━━━━━\u001b[0m\u001b[37m\u001b[0m \u001b[1m1s\u001b[0m 1ms/step - accuracy: 0.8712 - loss: 0.3496 - val_accuracy: 0.8649 - val_loss: 0.3730\n",
      "Epoch 5/10\n",
      "\u001b[1m112/938\u001b[0m \u001b[32m━━\u001b[0m\u001b[37m━━━━━━━━━━━━━━━━━━\u001b[0m \u001b[1m0s\u001b[0m 913us/step - accuracy: 0.8844 - loss: 0.3144"
     ]
    },
    {
     "name": "stderr",
     "output_type": "stream",
     "text": [
      "2025-07-19 13:00:40.090784: I tensorflow/core/framework/local_rendezvous.cc:407] Local rendezvous is aborting with status: OUT_OF_RANGE: End of sequence\n",
      "\t [[{{node MultiDeviceIteratorGetNextFromShard}}]]\n"
     ]
    },
    {
     "name": "stdout",
     "output_type": "stream",
     "text": [
      "\u001b[1m938/938\u001b[0m \u001b[32m━━━━━━━━━━━━━━━━━━━━\u001b[0m\u001b[37m\u001b[0m \u001b[1m1s\u001b[0m 1ms/step - accuracy: 0.8806 - loss: 0.3268 - val_accuracy: 0.8749 - val_loss: 0.3490\n",
      "Epoch 6/10\n",
      "\u001b[1m938/938\u001b[0m \u001b[32m━━━━━━━━━━━━━━━━━━━━\u001b[0m\u001b[37m\u001b[0m \u001b[1m1s\u001b[0m 1ms/step - accuracy: 0.8825 - loss: 0.3188 - val_accuracy: 0.8706 - val_loss: 0.3567\n",
      "Epoch 7/10\n",
      "\u001b[1m938/938\u001b[0m \u001b[32m━━━━━━━━━━━━━━━━━━━━\u001b[0m\u001b[37m\u001b[0m \u001b[1m1s\u001b[0m 1ms/step - accuracy: 0.8862 - loss: 0.3061 - val_accuracy: 0.8745 - val_loss: 0.3472\n",
      "Epoch 8/10\n",
      "\u001b[1m938/938\u001b[0m \u001b[32m━━━━━━━━━━━━━━━━━━━━\u001b[0m\u001b[37m\u001b[0m \u001b[1m1s\u001b[0m 1ms/step - accuracy: 0.8893 - loss: 0.2973 - val_accuracy: 0.8727 - val_loss: 0.3591\n",
      "Epoch 9/10\n",
      "\u001b[1m109/938\u001b[0m \u001b[32m━━\u001b[0m\u001b[37m━━━━━━━━━━━━━━━━━━\u001b[0m \u001b[1m0s\u001b[0m 932us/step - accuracy: 0.8960 - loss: 0.2800"
     ]
    },
    {
     "name": "stderr",
     "output_type": "stream",
     "text": [
      "2025-07-19 13:00:44.617331: I tensorflow/core/framework/local_rendezvous.cc:407] Local rendezvous is aborting with status: OUT_OF_RANGE: End of sequence\n",
      "\t [[{{node MultiDeviceIteratorGetNextFromShard}}]]\n"
     ]
    },
    {
     "name": "stdout",
     "output_type": "stream",
     "text": [
      "\u001b[1m938/938\u001b[0m \u001b[32m━━━━━━━━━━━━━━━━━━━━\u001b[0m\u001b[37m\u001b[0m \u001b[1m1s\u001b[0m 1ms/step - accuracy: 0.8929 - loss: 0.2882 - val_accuracy: 0.8753 - val_loss: 0.3481\n",
      "Epoch 10/10\n",
      "\u001b[1m938/938\u001b[0m \u001b[32m━━━━━━━━━━━━━━━━━━━━\u001b[0m\u001b[37m\u001b[0m \u001b[1m1s\u001b[0m 1ms/step - accuracy: 0.8953 - loss: 0.2812 - val_accuracy: 0.8831 - val_loss: 0.3271\n"
     ]
    }
   ],
   "source": [
    "# Enable XLA\n",
    "tf.config.optimizer.set_jit(True)\n",
    "\n",
    "# Batch Processing\n",
    "batch_size = 64\n",
    "train_dataset = tf.data.Dataset.from_tensor_slices((x_train, y_train))\n",
    "train_dataset = train_dataset.shuffle(buffer_size=10000).batch(batch_size)\n",
    "\n",
    "test_dataset = tf.data.Dataset.from_tensor_slices((x_test, y_test))\n",
    "test_dataset = test_dataset.batch(batch_size)\n",
    "\n",
    "# TensorFlow Auto-Tuning\n",
    "AUTOTUNE = tf.data.experimental.AUTOTUNE\n",
    "train_dataset = train_dataset.prefetch(buffer_size=AUTOTUNE)\n",
    "test_dataset = test_dataset.prefetch(buffer_size=AUTOTUNE)\n",
    "\n",
    "# Use MirroredStrategy for multi-GPU training\n",
    "strategy = tf.distribute.MirroredStrategy()\n",
    "\n",
    "with strategy.scope():\n",
    "    # Define the model architecture\n",
    "    model = keras.Sequential([\n",
    "        keras.layers.Flatten(input_shape=(28, 28)),\n",
    "        keras.layers.Dense(128, activation='relu'),\n",
    "        keras.layers.Dropout(0.2),\n",
    "        keras.layers.Dense(10, activation='softmax')\n",
    "    ])\n",
    "\n",
    "    # Compile the model\n",
    "    model.compile(optimizer='adam',\n",
    "                  loss='categorical_crossentropy',\n",
    "                  metrics=['accuracy'])\n",
    "\n",
    "# Split the data across the nodes\n",
    "size = strategy.num_replicas_in_sync\n",
    "x_rank = np.array_split(x_train, size)\n",
    "y_rank = np.array_split(y_train, size)\n",
    "\n",
    "# Train the model\n",
    "start_time = time.time()\n",
    "history = model.fit(train_dataset, epochs=10, validation_data=test_dataset)\n",
    "end_time = time.time()"
   ]
  },
  {
   "cell_type": "code",
   "execution_count": 33,
   "id": "5316a431-8f67-4eb3-8d0d-bb377b262ab7",
   "metadata": {},
   "outputs": [
    {
     "name": "stdout",
     "output_type": "stream",
     "text": [
      "Time taken with MirroredStrategy: 11.54 seconds\n"
     ]
    }
   ],
   "source": [
    "# Compute the training time\n",
    "train_time = end_time - start_time\n",
    "\n",
    "print(\"Time taken with MirroredStrategy: {:.2f} seconds\".format(train_time))"
   ]
  },
  {
   "cell_type": "markdown",
   "id": "3ea8ea35-281d-48a8-8c76-587715d25065",
   "metadata": {},
   "source": [
    "## 4.Custom Data Parallelism"
   ]
  },
  {
   "cell_type": "code",
   "execution_count": 38,
   "id": "e90671f9-8675-4a24-96f1-58f26e9d5dca",
   "metadata": {},
   "outputs": [
    {
     "name": "stdout",
     "output_type": "stream",
     "text": [
      "INFO:tensorflow:Using MirroredStrategy with devices ('/job:localhost/replica:0/task:0/device:CPU:0',)\n"
     ]
    },
    {
     "name": "stderr",
     "output_type": "stream",
     "text": [
      "2025-07-19 19:16:59.517774: I tensorflow/core/framework/local_rendezvous.cc:407] Local rendezvous is aborting with status: OUT_OF_RANGE: End of sequence\n"
     ]
    },
    {
     "name": "stdout",
     "output_type": "stream",
     "text": [
      "Time taken with Custom Data Parallelism: 7.72 seconds\n"
     ]
    }
   ],
   "source": [
    "# Create a MirroredStrategy\n",
    "strategy = tf.distribute.MirroredStrategy()\n",
    "\n",
    "# Define the model architecture\n",
    "def create_model():\n",
    "    return keras.Sequential([\n",
    "        keras.layers.Flatten(input_shape=(28, 28)),\n",
    "        keras.layers.Dense(128, activation='relu'),\n",
    "        keras.layers.Dropout(0.2),\n",
    "        keras.layers.Dense(10, activation='softmax')\n",
    "    ])\n",
    "\n",
    "with strategy.scope():\n",
    "    # Create the model\n",
    "    model = create_model()\n",
    "\n",
    "    # Compile the model\n",
    "    model.compile(optimizer='adam',\n",
    "                  loss='categorical_crossentropy',\n",
    "                  metrics=['accuracy'])\n",
    "\n",
    "    # Create the optimizer inside the strategy scope\n",
    "    optimizer = tf.keras.optimizers.Adam()\n",
    "\n",
    "# Manually distribute and train the model\n",
    "start_time = time.time()\n",
    "\n",
    "# Define a custom training loop using tf.function\n",
    "@tf.function\n",
    "def distributed_train_step(inputs):\n",
    "    per_replica_losses = strategy.run(train_step, args=(inputs, optimizer))\n",
    "    return strategy.reduce(tf.distribute.ReduceOp.SUM, per_replica_losses, axis=None)\n",
    "\n",
    "def train_step(inputs, optimizer):\n",
    "    x, y = inputs\n",
    "    with tf.GradientTape() as tape:\n",
    "        predictions = model(x)\n",
    "        loss = keras.losses.categorical_crossentropy(y, predictions)\n",
    "        loss = tf.reduce_mean(loss)\n",
    "    grads = tape.gradient(loss, model.trainable_variables)\n",
    "    optimizer.apply_gradients(zip(grads, model.trainable_variables))\n",
    "    return loss\n",
    "\n",
    "# Combine x_train and y_train into a Dataset\n",
    "train_dataset = tf.data.Dataset.from_tensor_slices((x_train, y_train)).shuffle(60000).batch(64)\n",
    "\n",
    "# Iterate over epochs and batches for training\n",
    "for epoch in range(10):\n",
    "    for batch in train_dataset:\n",
    "        distributed_train_step(batch)\n",
    "\n",
    "end_time = time.time()\n",
    "\n",
    "# Compute the training time\n",
    "train_time = end_time - start_time\n",
    "\n",
    "print(\"Time taken with Custom Data Parallelism: {:.2f} seconds\".format(train_time))\n"
   ]
  },
  {
   "cell_type": "code",
   "execution_count": null,
   "id": "e1270002-e7e6-431b-97bb-50d8f2c43345",
   "metadata": {},
   "outputs": [],
   "source": []
  }
 ],
 "metadata": {
  "kernelspec": {
   "display_name": "Python 3 (ipykernel)",
   "language": "python",
   "name": "python3"
  },
  "language_info": {
   "codemirror_mode": {
    "name": "ipython",
    "version": 3
   },
   "file_extension": ".py",
   "mimetype": "text/x-python",
   "name": "python",
   "nbconvert_exporter": "python",
   "pygments_lexer": "ipython3",
   "version": "3.12.7"
  }
 },
 "nbformat": 4,
 "nbformat_minor": 5
}
